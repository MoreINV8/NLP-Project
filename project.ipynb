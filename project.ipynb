{
 "cells": [
  {
   "cell_type": "markdown",
   "metadata": {
    "id": "y44rEdwYInQr"
   },
   "source": [
    "# **Setup**"
   ]
  },
  {
   "cell_type": "code",
   "execution_count": 1,
   "metadata": {
    "colab": {
     "base_uri": "https://localhost:8080/"
    },
    "id": "8Ti5om1FIjrq",
    "outputId": "76411261-a137-4aa2-e751-ffe928d9ed15"
   },
   "outputs": [
    {
     "name": "stdout",
     "output_type": "stream",
     "text": [
      "Requirement already satisfied: pythainlp in c:\\users\\lenovo\\anaconda3\\lib\\site-packages (4.0.2)\n",
      "Requirement already satisfied: requests>=2.22.0 in c:\\users\\lenovo\\anaconda3\\lib\\site-packages (from pythainlp) (2.28.1)\n",
      "Requirement already satisfied: idna<4,>=2.5 in c:\\users\\lenovo\\anaconda3\\lib\\site-packages (from requests>=2.22.0->pythainlp) (3.3)\n",
      "Requirement already satisfied: urllib3<1.27,>=1.21.1 in c:\\users\\lenovo\\anaconda3\\lib\\site-packages (from requests>=2.22.0->pythainlp) (1.26.11)\n",
      "Requirement already satisfied: charset-normalizer<3,>=2 in c:\\users\\lenovo\\anaconda3\\lib\\site-packages (from requests>=2.22.0->pythainlp) (2.0.4)\n",
      "Requirement already satisfied: certifi>=2017.4.17 in c:\\users\\lenovo\\anaconda3\\lib\\site-packages (from requests>=2.22.0->pythainlp) (2022.9.14)\n",
      "Requirement already satisfied: tensorflow in c:\\users\\lenovo\\anaconda3\\lib\\site-packages (2.13.0)\n",
      "Requirement already satisfied: tensorflow-intel==2.13.0 in c:\\users\\lenovo\\anaconda3\\lib\\site-packages (from tensorflow) (2.13.0)\n",
      "Requirement already satisfied: setuptools in c:\\users\\lenovo\\anaconda3\\lib\\site-packages (from tensorflow-intel==2.13.0->tensorflow) (63.4.1)\n",
      "Requirement already satisfied: libclang>=13.0.0 in c:\\users\\lenovo\\anaconda3\\lib\\site-packages (from tensorflow-intel==2.13.0->tensorflow) (16.0.6)\n",
      "Requirement already satisfied: protobuf!=4.21.0,!=4.21.1,!=4.21.2,!=4.21.3,!=4.21.4,!=4.21.5,<5.0.0dev,>=3.20.3 in c:\\users\\lenovo\\anaconda3\\lib\\site-packages (from tensorflow-intel==2.13.0->tensorflow) (4.23.4)\n",
      "Requirement already satisfied: keras<2.14,>=2.13.1 in c:\\users\\lenovo\\anaconda3\\lib\\site-packages (from tensorflow-intel==2.13.0->tensorflow) (2.13.1)\n",
      "Requirement already satisfied: h5py>=2.9.0 in c:\\users\\lenovo\\anaconda3\\lib\\site-packages (from tensorflow-intel==2.13.0->tensorflow) (3.7.0)\n",
      "Requirement already satisfied: absl-py>=1.0.0 in c:\\users\\lenovo\\anaconda3\\lib\\site-packages (from tensorflow-intel==2.13.0->tensorflow) (1.4.0)\n",
      "Requirement already satisfied: tensorboard<2.14,>=2.13 in c:\\users\\lenovo\\anaconda3\\lib\\site-packages (from tensorflow-intel==2.13.0->tensorflow) (2.13.0)\n",
      "Requirement already satisfied: grpcio<2.0,>=1.24.3 in c:\\users\\lenovo\\anaconda3\\lib\\site-packages (from tensorflow-intel==2.13.0->tensorflow) (1.56.2)\n",
      "Requirement already satisfied: numpy<=1.24.3,>=1.22 in c:\\users\\lenovo\\anaconda3\\lib\\site-packages (from tensorflow-intel==2.13.0->tensorflow) (1.24.3)\n",
      "Requirement already satisfied: opt-einsum>=2.3.2 in c:\\users\\lenovo\\anaconda3\\lib\\site-packages (from tensorflow-intel==2.13.0->tensorflow) (3.3.0)\n",
      "Requirement already satisfied: google-pasta>=0.1.1 in c:\\users\\lenovo\\anaconda3\\lib\\site-packages (from tensorflow-intel==2.13.0->tensorflow) (0.2.0)\n",
      "Requirement already satisfied: tensorflow-estimator<2.14,>=2.13.0 in c:\\users\\lenovo\\anaconda3\\lib\\site-packages (from tensorflow-intel==2.13.0->tensorflow) (2.13.0)\n",
      "Requirement already satisfied: packaging in c:\\users\\lenovo\\anaconda3\\lib\\site-packages (from tensorflow-intel==2.13.0->tensorflow) (21.3)\n",
      "Requirement already satisfied: tensorflow-io-gcs-filesystem>=0.23.1 in c:\\users\\lenovo\\anaconda3\\lib\\site-packages (from tensorflow-intel==2.13.0->tensorflow) (0.31.0)\n",
      "Requirement already satisfied: wrapt>=1.11.0 in c:\\users\\lenovo\\anaconda3\\lib\\site-packages (from tensorflow-intel==2.13.0->tensorflow) (1.14.1)\n",
      "Requirement already satisfied: typing-extensions<4.6.0,>=3.6.6 in c:\\users\\lenovo\\anaconda3\\lib\\site-packages (from tensorflow-intel==2.13.0->tensorflow) (4.3.0)\n",
      "Requirement already satisfied: six>=1.12.0 in c:\\users\\lenovo\\anaconda3\\lib\\site-packages (from tensorflow-intel==2.13.0->tensorflow) (1.16.0)\n",
      "Requirement already satisfied: astunparse>=1.6.0 in c:\\users\\lenovo\\anaconda3\\lib\\site-packages (from tensorflow-intel==2.13.0->tensorflow) (1.6.3)\n",
      "Requirement already satisfied: flatbuffers>=23.1.21 in c:\\users\\lenovo\\anaconda3\\lib\\site-packages (from tensorflow-intel==2.13.0->tensorflow) (23.5.26)\n",
      "Requirement already satisfied: termcolor>=1.1.0 in c:\\users\\lenovo\\anaconda3\\lib\\site-packages (from tensorflow-intel==2.13.0->tensorflow) (2.3.0)\n",
      "Requirement already satisfied: gast<=0.4.0,>=0.2.1 in c:\\users\\lenovo\\anaconda3\\lib\\site-packages (from tensorflow-intel==2.13.0->tensorflow) (0.4.0)\n",
      "Requirement already satisfied: wheel<1.0,>=0.23.0 in c:\\users\\lenovo\\anaconda3\\lib\\site-packages (from astunparse>=1.6.0->tensorflow-intel==2.13.0->tensorflow) (0.37.1)\n",
      "Requirement already satisfied: tensorboard-data-server<0.8.0,>=0.7.0 in c:\\users\\lenovo\\anaconda3\\lib\\site-packages (from tensorboard<2.14,>=2.13->tensorflow-intel==2.13.0->tensorflow) (0.7.1)\n",
      "Requirement already satisfied: werkzeug>=1.0.1 in c:\\users\\lenovo\\anaconda3\\lib\\site-packages (from tensorboard<2.14,>=2.13->tensorflow-intel==2.13.0->tensorflow) (2.0.3)\n",
      "Requirement already satisfied: markdown>=2.6.8 in c:\\users\\lenovo\\anaconda3\\lib\\site-packages (from tensorboard<2.14,>=2.13->tensorflow-intel==2.13.0->tensorflow) (3.3.4)\n",
      "Requirement already satisfied: google-auth<3,>=1.6.3 in c:\\users\\lenovo\\anaconda3\\lib\\site-packages (from tensorboard<2.14,>=2.13->tensorflow-intel==2.13.0->tensorflow) (2.22.0)\n",
      "Requirement already satisfied: google-auth-oauthlib<1.1,>=0.5 in c:\\users\\lenovo\\anaconda3\\lib\\site-packages (from tensorboard<2.14,>=2.13->tensorflow-intel==2.13.0->tensorflow) (1.0.0)\n",
      "Requirement already satisfied: requests<3,>=2.21.0 in c:\\users\\lenovo\\anaconda3\\lib\\site-packages (from tensorboard<2.14,>=2.13->tensorflow-intel==2.13.0->tensorflow) (2.28.1)\n",
      "Requirement already satisfied: pyparsing!=3.0.5,>=2.0.2 in c:\\users\\lenovo\\anaconda3\\lib\\site-packages (from packaging->tensorflow-intel==2.13.0->tensorflow) (3.0.9)\n",
      "Requirement already satisfied: cachetools<6.0,>=2.0.0 in c:\\users\\lenovo\\anaconda3\\lib\\site-packages (from google-auth<3,>=1.6.3->tensorboard<2.14,>=2.13->tensorflow-intel==2.13.0->tensorflow) (5.3.1)\n",
      "Requirement already satisfied: rsa<5,>=3.1.4 in c:\\users\\lenovo\\anaconda3\\lib\\site-packages (from google-auth<3,>=1.6.3->tensorboard<2.14,>=2.13->tensorflow-intel==2.13.0->tensorflow) (4.9)\n",
      "Requirement already satisfied: urllib3<2.0 in c:\\users\\lenovo\\anaconda3\\lib\\site-packages (from google-auth<3,>=1.6.3->tensorboard<2.14,>=2.13->tensorflow-intel==2.13.0->tensorflow) (1.26.11)\n",
      "Requirement already satisfied: pyasn1-modules>=0.2.1 in c:\\users\\lenovo\\anaconda3\\lib\\site-packages (from google-auth<3,>=1.6.3->tensorboard<2.14,>=2.13->tensorflow-intel==2.13.0->tensorflow) (0.2.8)\n",
      "Requirement already satisfied: requests-oauthlib>=0.7.0 in c:\\users\\lenovo\\anaconda3\\lib\\site-packages (from google-auth-oauthlib<1.1,>=0.5->tensorboard<2.14,>=2.13->tensorflow-intel==2.13.0->tensorflow) (1.3.1)\n",
      "Requirement already satisfied: charset-normalizer<3,>=2 in c:\\users\\lenovo\\anaconda3\\lib\\site-packages (from requests<3,>=2.21.0->tensorboard<2.14,>=2.13->tensorflow-intel==2.13.0->tensorflow) (2.0.4)\n",
      "Requirement already satisfied: certifi>=2017.4.17 in c:\\users\\lenovo\\anaconda3\\lib\\site-packages (from requests<3,>=2.21.0->tensorboard<2.14,>=2.13->tensorflow-intel==2.13.0->tensorflow) (2022.9.14)\n",
      "Requirement already satisfied: idna<4,>=2.5 in c:\\users\\lenovo\\anaconda3\\lib\\site-packages (from requests<3,>=2.21.0->tensorboard<2.14,>=2.13->tensorflow-intel==2.13.0->tensorflow) (3.3)\n",
      "Requirement already satisfied: pyasn1<0.5.0,>=0.4.6 in c:\\users\\lenovo\\anaconda3\\lib\\site-packages (from pyasn1-modules>=0.2.1->google-auth<3,>=1.6.3->tensorboard<2.14,>=2.13->tensorflow-intel==2.13.0->tensorflow) (0.4.8)\n",
      "Requirement already satisfied: oauthlib>=3.0.0 in c:\\users\\lenovo\\anaconda3\\lib\\site-packages (from requests-oauthlib>=0.7.0->google-auth-oauthlib<1.1,>=0.5->tensorboard<2.14,>=2.13->tensorflow-intel==2.13.0->tensorflow) (3.2.2)\n",
      "Requirement already satisfied: scikit-learn in c:\\users\\lenovo\\anaconda3\\lib\\site-packages (1.0.2)\n",
      "Requirement already satisfied: scipy>=1.1.0 in c:\\users\\lenovo\\anaconda3\\lib\\site-packages (from scikit-learn) (1.9.1)\n",
      "Requirement already satisfied: joblib>=0.11 in c:\\users\\lenovo\\anaconda3\\lib\\site-packages (from scikit-learn) (1.1.0)\n",
      "Requirement already satisfied: threadpoolctl>=2.0.0 in c:\\users\\lenovo\\anaconda3\\lib\\site-packages (from scikit-learn) (2.2.0)\n",
      "Requirement already satisfied: numpy>=1.14.6 in c:\\users\\lenovo\\anaconda3\\lib\\site-packages (from scikit-learn) (1.24.3)\n"
     ]
    }
   ],
   "source": [
    "# download data\n",
    "# !wget --no-check-certificate 'https://docs.google.com/uc?export=download&id=1nckRRVYRiWG8VWoUY4wwtuQm6DjIbpmo' -O w_review_train.csv\n",
    "\n",
    "# # download font for matplot\n",
    "# !wget --no-check-certificate 'https://docs.google.com/uc?export=download&id=1DsfYE5uI1ZA_IXDNkezQTv-NQehxgZQy' -O THSarabun.ttf\n",
    "\n",
    "# install library\n",
    "!pip install pythainlp\n",
    "# get tensorflow\n",
    "# !pip install --upgrade pip\n",
    "!pip install tensorflow\n",
    "!pip install scikit-learn"
   ]
  },
  {
   "cell_type": "markdown",
   "metadata": {},
   "source": [
    "# Import Library\n",
    "---"
   ]
  },
  {
   "cell_type": "code",
   "execution_count": 2,
   "metadata": {},
   "outputs": [],
   "source": [
    "from tensorflow import keras\n",
    "\n",
    "import pandas as pd\n",
    "import numpy as np\n",
    "from pythainlp import word_tokenize\n",
    "from sklearn.model_selection import train_test_split\n",
    "from keras.preprocessing.text import Tokenizer\n",
    "from keras.utils import to_categorical\n",
    "from keras.preprocessing.sequence import pad_sequences\n",
    "\n",
    "from sklearn.metrics import confusion_matrix, classification_report"
   ]
  },
  {
   "cell_type": "markdown",
   "metadata": {},
   "source": [
    "---\n",
    "### Prepare Data {Tokenize Word}\n",
    "---"
   ]
  },
  {
   "cell_type": "code",
   "execution_count": 3,
   "metadata": {},
   "outputs": [
    {
     "name": "stdout",
     "output_type": "stream",
     "text": [
      "(477, 2)\n",
      "   Class                        Text\n",
      "0      0         คนแก่กินอะไรได้บ้าง\n",
      "1      0                ควรกินอะไรดี\n",
      "2      0               อาหารที่แนะนำ\n",
      "3      0              ทานอะไรได้บ้าง\n",
      "4      0  อาหารที่เหมาะกับผู้สูงอายุ\n",
      "max len 22\n"
     ]
    }
   ],
   "source": [
    "# check data\n",
    "data = pd.read_csv(\"NLP_Elder_Companion.csv\")\n",
    "print(data.shape)\n",
    "print(data.head())\n",
    "\n",
    "# word tokenize\n",
    "comment = data[\"Text\"].apply(word_tokenize, engine=\"newmm\", keep_whitespace=False)\n",
    "tokenizer = Tokenizer()\n",
    "tokenizer.fit_on_texts(comment)\n",
    "comment = tokenizer.texts_to_sequences(comment)\n",
    "\n",
    "# adjust sequence to have same size\n",
    "maxlen = max([len(s) for s in comment])\n",
    "print(\"max len\", maxlen)\n",
    "x = pad_sequences(comment, maxlen=maxlen, padding=\"post\")\n",
    "\n",
    "y = np.array(data[\"Class\"], dtype=np.int32).reshape(-1, 1)\n",
    "\n",
    "# One-hot encode the target data\n",
    "num_classes = 10\n",
    "y = to_categorical(y, num_classes=num_classes)\n",
    "\n",
    "xTrain, xTest, yTrain, yTest = train_test_split(x, y, test_size=0.2, random_state=22)"
   ]
  },
  {
   "cell_type": "code",
   "execution_count": 4,
   "metadata": {},
   "outputs": [],
   "source": [
    "from keras.layers import SimpleRNN, LSTM, Embedding, Flatten, Dense, Bidirectional\n",
    "from keras.models import Sequential, Model\n",
    "from keras.losses import CategoricalCrossentropy\n",
    "from keras.optimizers import Adam"
   ]
  },
  {
   "cell_type": "code",
   "execution_count": 6,
   "metadata": {},
   "outputs": [
    {
     "name": "stdout",
     "output_type": "stream",
     "text": [
      "Model: \"sequential_1\"\n",
      "_________________________________________________________________\n",
      " Layer (type)                Output Shape              Param #   \n",
      "=================================================================\n",
      " embedding_1 (Embedding)     (None, 22, 2000)          1190000   \n",
      "                                                                 \n",
      " bidirectional_1 (Bidirecti  (None, 4000)              64016000  \n",
      " onal)                                                           \n",
      "                                                                 \n",
      " dense_1 (Dense)             (None, 10)                40010     \n",
      "                                                                 \n",
      "=================================================================\n",
      "Total params: 65246010 (248.89 MB)\n",
      "Trainable params: 65246010 (248.89 MB)\n",
      "Non-trainable params: 0 (0.00 Byte)\n",
      "_________________________________________________________________\n",
      "Epoch 1/2\n",
      "9/9 [==============================] - 56s 6s/step - loss: 2.3141 - accuracy: 0.1680\n",
      "Epoch 2/2\n",
      "9/9 [==============================] - 54s 6s/step - loss: 1.6320 - accuracy: 0.5591\n",
      "3/3 [==============================] - 2s 488ms/step\n",
      "3/3 [==============================] - 2s 490ms/step - loss: 1.3627 - accuracy: 0.5729\n",
      "[1.3626703023910522, 0.5729166865348816]\n",
      "Confusion Matrix:\n",
      "[[ 9  0  0  0  0  0  0  0  0  0]\n",
      " [ 1  2  0  0  0  0  1  0  2  0]\n",
      " [ 0  0  3  0  1  1  1  0  3  0]\n",
      " [ 0  1  0  8  1  0  0  0  0  0]\n",
      " [ 0  0  0  0  5  0  1  0  3  0]\n",
      " [ 0  1  0  0  0  2  0  0  5  0]\n",
      " [ 1  0  0  0  0  0  9  0  0  0]\n",
      " [ 2  0  0  0  1  1  3  6  5  0]\n",
      " [ 1  0  0  0  0  0  0  0 11  0]\n",
      " [ 0  0  2  0  0  0  1  0  2  0]]\n",
      "\n",
      "Classification Report:\n",
      "              precision    recall  f1-score   support\n",
      "\n",
      "           0       0.64      1.00      0.78         9\n",
      "           1       0.50      0.33      0.40         6\n",
      "           2       0.60      0.33      0.43         9\n",
      "           3       1.00      0.80      0.89        10\n",
      "           4       0.62      0.56      0.59         9\n",
      "           5       0.50      0.25      0.33         8\n",
      "           6       0.56      0.90      0.69        10\n",
      "           7       1.00      0.33      0.50        18\n",
      "           8       0.35      0.92      0.51        12\n",
      "           9       0.00      0.00      0.00         5\n",
      "\n",
      "    accuracy                           0.57        96\n",
      "   macro avg       0.58      0.54      0.51        96\n",
      "weighted avg       0.64      0.57      0.54        96\n",
      "\n"
     ]
    },
    {
     "name": "stderr",
     "output_type": "stream",
     "text": [
      "C:\\Users\\Lenovo\\anaconda3\\lib\\site-packages\\sklearn\\metrics\\_classification.py:1318: UndefinedMetricWarning: Precision and F-score are ill-defined and being set to 0.0 in labels with no predicted samples. Use `zero_division` parameter to control this behavior.\n",
      "  _warn_prf(average, modifier, msg_start, len(result))\n",
      "C:\\Users\\Lenovo\\anaconda3\\lib\\site-packages\\sklearn\\metrics\\_classification.py:1318: UndefinedMetricWarning: Precision and F-score are ill-defined and being set to 0.0 in labels with no predicted samples. Use `zero_division` parameter to control this behavior.\n",
      "  _warn_prf(average, modifier, msg_start, len(result))\n",
      "C:\\Users\\Lenovo\\anaconda3\\lib\\site-packages\\sklearn\\metrics\\_classification.py:1318: UndefinedMetricWarning: Precision and F-score are ill-defined and being set to 0.0 in labels with no predicted samples. Use `zero_division` parameter to control this behavior.\n",
      "  _warn_prf(average, modifier, msg_start, len(result))\n"
     ]
    }
   ],
   "source": [
    "# Tokenizer().word_index = word index\n",
    "# +1 is from function paramiter\n",
    "vocabSize = len(tokenizer.word_index) + 1\n",
    "\n",
    "model = Sequential()\n",
    "model.add(Embedding(input_dim=vocabSize,\n",
    "                   output_dim=2000,\n",
    "                   input_length=maxlen))\n",
    "model.add(Bidirectional(LSTM(2000)))\n",
    "model.add(Dense(10, activation=\"softmax\"))\n",
    "\n",
    "model.summary()\n",
    "\n",
    "lost_func = CategoricalCrossentropy()\n",
    "otm = Adam()\n",
    "model.compile(optimizer=otm, loss=lost_func, metrics=[\"accuracy\"])\n",
    "\n",
    "model.fit(xTrain, yTrain, batch_size=46, epochs=2, verbose=1)\n",
    "\n",
    "y_predict = model.predict(xTest)\n",
    "print(model.evaluate(xTest, yTest, verbose=1))\n",
    "\n",
    "y_predict = np.argmax(y_predict, axis=1)\n",
    "cm = confusion_matrix(np.argmax(yTest, axis=1), y_predict)\n",
    "report = classification_report(np.argmax(yTest, axis=1), y_predict)\n",
    "print(\"Confusion Matrix:\")\n",
    "print(cm)\n",
    "\n",
    "print(\"\\nClassification Report:\")\n",
    "print(report)"
   ]
  },
  {
   "cell_type": "code",
   "execution_count": null,
   "metadata": {},
   "outputs": [
    {
     "name": "stdout",
     "output_type": "stream",
     "text": [
      "Model: \"sequential_2\"\n",
      "_________________________________________________________________\n",
      " Layer (type)                Output Shape              Param #   \n",
      "=================================================================\n",
      " embedding_2 (Embedding)     (None, 22, 2000)          1190000   \n",
      "                                                                 \n",
      " lstm_2 (LSTM)               (None, 2000)              32008000  \n",
      "                                                                 \n",
      " dense_2 (Dense)             (None, 10)                20010     \n",
      "                                                                 \n",
      "=================================================================\n",
      "Total params: 33218010 (126.72 MB)\n",
      "Trainable params: 33218010 (126.72 MB)\n",
      "Non-trainable params: 0 (0.00 Byte)\n",
      "_________________________________________________________________\n",
      "x (381, 22) : y (381, 10)\n",
      "Epoch 1/3\n",
      "9/9 [==============================] - 28s 3s/step - loss: 2.4560 - accuracy: 0.0971\n",
      "Epoch 2/3\n",
      "9/9 [==============================] - 26s 3s/step - loss: 2.3230 - accuracy: 0.1181\n",
      "Epoch 3/3\n",
      "5/9 [===============>..............] - ETA: 11s - loss: 2.2389 - accuracy: 0.1478"
     ]
    }
   ],
   "source": [
    "# Tokenizer().word_index = word index\n",
    "# +1 is from function paramiter\n",
    "vocabSize = len(tokenizer.word_index) + 1\n",
    "\n",
    "model = Sequential()\n",
    "model.add(Embedding(input_dim=vocabSize,\n",
    "                   output_dim=2000,\n",
    "                   input_length=maxlen))\n",
    "model.add(LSTM(2000))\n",
    "model.add(Dense(10, activation=\"softmax\"))\n",
    "\n",
    "model.summary()\n",
    "\n",
    "lost_func = CategoricalCrossentropy()\n",
    "otm = Adam()\n",
    "model.compile(optimizer=otm, loss=lost_func, metrics=[\"accuracy\"])\n",
    "\n",
    "print(\"x\", xTrain.shape, \":\", \"y\", yTrain.shape)\n",
    "model.fit(xTrain, yTrain, batch_size=46, epochs=3, verbose=1)\n",
    "\n",
    "y_predict = model.predict(xTest)\n",
    "print(model.evaluate(xTest, yTest, verbose=1))"
   ]
  },
  {
   "cell_type": "code",
   "execution_count": null,
   "metadata": {},
   "outputs": [],
   "source": [
    "# Tokenizer().word_index = word index\n",
    "# +1 is from function paramiter\n",
    "vocabSize = len(tokenizer.word_index) + 1\n",
    "\n",
    "model = Sequential()\n",
    "model.add(Embedding(input_dim=vocabSize,\n",
    "                   output_dim=2000,\n",
    "                   input_length=maxlen))\n",
    "model.add(SimpleRNN(2000))\n",
    "model.add(Dense(1000, activation=\"relu\"))\n",
    "model.add(Dense(500,  activation=\"relu\"))\n",
    "model.add(Dense(10, activation=\"softmax\"))\n",
    "\n",
    "model.summary()\n",
    "\n",
    "lost_func = CategoricalCrossentropy()\n",
    "otm = Adam()\n",
    "model.compile(optimizer=otm, loss=lost_func, metrics=[\"accuracy\"])\n",
    "\n",
    "print(\"x\", xTrain.shape, \":\", \"y\", yTrain.shape)\n",
    "model.fit(xTrain, yTrain, batch_size=46, epochs=3, verbose=1)\n",
    "\n",
    "y_predict = model.predict(xTest)\n",
    "print(model.evaluate(xTest, yTest, verbose=1))"
   ]
  },
  {
   "cell_type": "code",
   "execution_count": null,
   "metadata": {},
   "outputs": [],
   "source": []
  },
  {
   "cell_type": "code",
   "execution_count": null,
   "metadata": {},
   "outputs": [],
   "source": []
  }
 ],
 "metadata": {
  "accelerator": "GPU",
  "colab": {
   "provenance": []
  },
  "gpuClass": "standard",
  "kernelspec": {
   "display_name": "Python 3 (ipykernel)",
   "language": "python",
   "name": "python3"
  },
  "language_info": {
   "codemirror_mode": {
    "name": "ipython",
    "version": 3
   },
   "file_extension": ".py",
   "mimetype": "text/x-python",
   "name": "python",
   "nbconvert_exporter": "python",
   "pygments_lexer": "ipython3",
   "version": "3.9.13"
  }
 },
 "nbformat": 4,
 "nbformat_minor": 4
}
